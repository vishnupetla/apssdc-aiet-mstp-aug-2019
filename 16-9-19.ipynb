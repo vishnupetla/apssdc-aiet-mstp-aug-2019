{
 "cells": [
  {
   "cell_type": "markdown",
   "metadata": {},
   "source": [
    "# Files"
   ]
  },
  {
   "cell_type": "markdown",
   "metadata": {},
   "source": [
    "- file is collection of records or information\n",
    "- files is stored on secondary devices (hard disk)\n",
    "- we have some methods to work with files\n",
    "    - open\n",
    "    - read\n",
    "    - write\n",
    "    - close"
   ]
  },
  {
   "cell_type": "markdown",
   "metadata": {},
   "source": [
    "#### method-1"
   ]
  },
  {
   "cell_type": "code",
   "execution_count": 2,
   "metadata": {},
   "outputs": [
    {
     "name": "stdout",
     "output_type": "stream",
     "text": [
      "this is sample test\n",
      "we can read this data using file concept\n"
     ]
    }
   ],
   "source": [
    "fh = open('sample.txt','r') # to open the file\n",
    "data = fh.read() # to read content of opened file\n",
    "print(data) # to print the taken data\n",
    "fh.close() # to close the opened file"
   ]
  },
  {
   "cell_type": "markdown",
   "metadata": {},
   "source": [
    "#### method-2"
   ]
  },
  {
   "cell_type": "code",
   "execution_count": 5,
   "metadata": {},
   "outputs": [
    {
     "name": "stdout",
     "output_type": "stream",
     "text": [
      "this is sample test\n",
      "we can read this data using file concept\n"
     ]
    }
   ],
   "source": [
    "with open('sample.txt','r') as fh:\n",
    "    data=fh.read()\n",
    "    print(data)"
   ]
  },
  {
   "cell_type": "code",
   "execution_count": 6,
   "metadata": {},
   "outputs": [],
   "source": [
    "def readdata(fname):\n",
    "    fh = open(fname, 'r')\n",
    "    data = fh.read()\n",
    "    return data"
   ]
  },
  {
   "cell_type": "code",
   "execution_count": 8,
   "metadata": {},
   "outputs": [
    {
     "name": "stdout",
     "output_type": "stream",
     "text": [
      "THIS IS SAMPLE TEST\n",
      "WE CAN READ THIS DATA USING FILE CONCEPT\n"
     ]
    }
   ],
   "source": [
    "print(readdata('sample.txt').upper())"
   ]
  },
  {
   "cell_type": "code",
   "execution_count": 9,
   "metadata": {},
   "outputs": [
    {
     "name": "stdout",
     "output_type": "stream",
     "text": [
      "we are giving text to write the data in newfile\n"
     ]
    }
   ],
   "source": [
    "fh = open('newfile.txt','w')\n",
    "data = input()\n",
    "fh.write(data)\n",
    "fh.close()"
   ]
  },
  {
   "cell_type": "code",
   "execution_count": 10,
   "metadata": {},
   "outputs": [],
   "source": [
    "def writedata(fname, text):\n",
    "    fh = open(fname, 'w')\n",
    "    fh.write(text)\n",
    "    fh.close()\n",
    "    return 'written successfully'"
   ]
  },
  {
   "cell_type": "code",
   "execution_count": 11,
   "metadata": {},
   "outputs": [
    {
     "data": {
      "text/plain": [
       "'written successfully'"
      ]
     },
     "execution_count": 11,
     "metadata": {},
     "output_type": "execute_result"
    }
   ],
   "source": [
    "writedata('newfile.txt','hello')"
   ]
  },
  {
   "cell_type": "code",
   "execution_count": null,
   "metadata": {},
   "outputs": [],
   "source": [
    "# w.p to reading the data from given line and print it with line numbers"
   ]
  },
  {
   "cell_type": "code",
   "execution_count": null,
   "metadata": {},
   "outputs": [],
   "source": [
    "# w.p to take two files and take the data from one file \n",
    "# and write into another file\n",
    "# example: source.txt to dest.txt"
   ]
  },
  {
   "cell_type": "code",
   "execution_count": 12,
   "metadata": {},
   "outputs": [],
   "source": [
    "file='contacts_data.txt'\n",
    "def newcontact(name,contact):\n",
    "    fh = open(file,'a')\n",
    "    fh.write(name+\" \"+str(contact)+\"\\n\")\n",
    "    fh.close()\n",
    "    return 'contact saved'"
   ]
  },
  {
   "cell_type": "code",
   "execution_count": 13,
   "metadata": {},
   "outputs": [
    {
     "data": {
      "text/plain": [
       "'contact saved'"
      ]
     },
     "execution_count": 13,
     "metadata": {},
     "output_type": "execute_result"
    }
   ],
   "source": [
    "newcontact('mahesh',9827282910)"
   ]
  },
  {
   "cell_type": "code",
   "execution_count": 14,
   "metadata": {},
   "outputs": [
    {
     "data": {
      "text/plain": [
       "'contact saved'"
      ]
     },
     "execution_count": 14,
     "metadata": {},
     "output_type": "execute_result"
    }
   ],
   "source": [
    "newcontact('krishna',9827282909)"
   ]
  },
  {
   "cell_type": "code",
   "execution_count": 17,
   "metadata": {},
   "outputs": [],
   "source": [
    "def readcontact(name):\n",
    "    fh = open(file)\n",
    "    lines = fh.readlines()\n",
    "    for line in lines:\n",
    "        words = line.split()\n",
    "        contact_name = words[0]\n",
    "        contact = words[1]\n",
    "        if name == contact_name:\n",
    "            print(contact)\n",
    "            break"
   ]
  },
  {
   "cell_type": "code",
   "execution_count": 18,
   "metadata": {},
   "outputs": [
    {
     "name": "stdout",
     "output_type": "stream",
     "text": [
      "9827282910\n"
     ]
    }
   ],
   "source": [
    "readcontact('mahesh')"
   ]
  },
  {
   "cell_type": "code",
   "execution_count": 19,
   "metadata": {},
   "outputs": [
    {
     "name": "stdout",
     "output_type": "stream",
     "text": [
      "9827282909\n"
     ]
    }
   ],
   "source": [
    "readcontact('krishna')"
   ]
  },
  {
   "cell_type": "code",
   "execution_count": 23,
   "metadata": {},
   "outputs": [
    {
     "name": "stdout",
     "output_type": "stream",
     "text": [
      "mahesh 9827282910\n",
      "krishna 9827282909\n"
     ]
    }
   ],
   "source": [
    "def readallcontacts():\n",
    "    fh = open(file)\n",
    "    lines = fh.readlines()\n",
    "    for line in lines:\n",
    "        print(line,end=\"\")\n",
    "readallcontacts()"
   ]
  },
  {
   "cell_type": "code",
   "execution_count": 26,
   "metadata": {},
   "outputs": [
    {
     "name": "stdout",
     "output_type": "stream",
     "text": [
      "krishna 9827282909\n",
      "mahesh 9827282910\n"
     ]
    }
   ],
   "source": [
    "# display all contacts in ascending order\n",
    "def readallcontactsbysorting():\n",
    "    fh = open(file)\n",
    "    lines = fh.readlines()\n",
    "    contacts=[]\n",
    "    for line in lines:\n",
    "        contacts.append(tuple(line.split()))\n",
    "    sorted_contacts = sorted(contacts)\n",
    "    for name,contact in sorted_contacts:\n",
    "        print(name,contact)\n",
    "readallcontactsbysorting()"
   ]
  },
  {
   "cell_type": "markdown",
   "metadata": {},
   "source": [
    "### Modes in Filehandling\n"
   ]
  },
  {
   "cell_type": "markdown",
   "metadata": {},
   "source": [
    "we have three methods\n",
    "- read()-reading\n",
    "- write()- writing\n",
    "- append()- appending"
   ]
  },
  {
   "cell_type": "code",
   "execution_count": 16,
   "metadata": {},
   "outputs": [
    {
     "name": "stdout",
     "output_type": "stream",
     "text": [
      "new line\n",
      "line1\n",
      "line2\n",
      "line3\n",
      "line4\n"
     ]
    }
   ],
   "source": [
    "f = open('data12.txt')\n",
    "fh=f.read()\n",
    "print(fh)\n",
    "f.close()"
   ]
  },
  {
   "cell_type": "code",
   "execution_count": 18,
   "metadata": {},
   "outputs": [
    {
     "name": "stdout",
     "output_type": "stream",
     "text": [
      "7\n"
     ]
    }
   ],
   "source": [
    "#write() mode is used to write something in a file\n",
    "with open('data12.txt','w') as f:\n",
    "    fh = f.write(\"APS SDC\")\n",
    "    print(fh)\n"
   ]
  },
  {
   "cell_type": "code",
   "execution_count": 20,
   "metadata": {},
   "outputs": [
    {
     "name": "stdout",
     "output_type": "stream",
     "text": [
      "21\n"
     ]
    }
   ],
   "source": [
    "#append()\n",
    "with open('data12.txt','a') as f:\n",
    "    fh = f.write(\" Python Programming \\n\")\n",
    "    print(fh)\n",
    "    \n"
   ]
  },
  {
   "cell_type": "code",
   "execution_count": 21,
   "metadata": {},
   "outputs": [
    {
     "name": "stdout",
     "output_type": "stream",
     "text": [
      "30\n"
     ]
    }
   ],
   "source": [
    "#tell() - Cursur Possition \n",
    "#seek() -Particular point in file\n",
    "with open('data.txt','r') as f:\n",
    "    f.read()\n",
    "    print(f.tell())\n"
   ]
  },
  {
   "cell_type": "code",
   "execution_count": 22,
   "metadata": {},
   "outputs": [
    {
     "name": "stdout",
     "output_type": "stream",
     "text": [
      "APSSDC \n"
     ]
    }
   ],
   "source": [
    "with open('data.txt','r') as f:\n",
    "    f.read()\n",
    "    f.seek(0)\n",
    "    print(f.read(7))"
   ]
  },
  {
   "cell_type": "code",
   "execution_count": 25,
   "metadata": {},
   "outputs": [],
   "source": [
    "# Function to generate marks data for n students\n",
    "from random import randint\n",
    "def generatemarks(n,lb,ub):\n",
    "    with open('DataFiles/marks.txt','w') as f:\n",
    "        for i in range(0,n):\n",
    "            r=randint(lb,ub)\n",
    "            f.write(str(r)+'\\n')\n",
    "    return\n",
    "generatemarks(10000,0,100)"
   ]
  },
  {
   "cell_type": "code",
   "execution_count": 33,
   "metadata": {},
   "outputs": [
    {
     "name": "stdout",
     "output_type": "stream",
     "text": [
      "Class Average: 49.9218\n",
      "% of passed students: 64.19\n",
      "% of failed students: 35.81\n",
      "% distinction students: 20.61\n",
      "Highest mark frequency: 104\n",
      "Lowest mark frequency: 106\n"
     ]
    }
   ],
   "source": [
    "# Generating a class report,class average,passed students,failed students\n",
    "# distinction,highest mark frequency,lowest mark frequency\n",
    "def generatereport(filepath):\n",
    "    with open(filepath,'r') as f:\n",
    "        filedata = f.read()\n",
    "        lines = filedata.split('\\n')\n",
    "        lines = list(map(int,lines[:-1]))\n",
    "        sum = 0\n",
    "        passcount =0\n",
    "        distinction=0\n",
    "        highestmark=max(lines)\n",
    "        highcount=0\n",
    "        lowestmark=min(lines)\n",
    "        lowcount=0\n",
    "        for i in lines:\n",
    "            sum+=int(i)\n",
    "            if int(i)>35:\n",
    "                passcount+=1\n",
    "            if int(i)>=80:\n",
    "                distinction+=1\n",
    "            if int(i)==int(highestmark):\n",
    "                highcount+=1\n",
    "            if int(i)==int(lowestmark):\n",
    "                lowcount+=1\n",
    "        average=sum/len(lines)\n",
    "        passpercentage=(passcount/len(lines))*100\n",
    "        failedpercentage=100-passpercentage\n",
    "        distinctionpercentage=(distinction/len(lines))*100\n",
    "        print(\"Class Average:\",average)\n",
    "        print(\"% of passed students:\",passpercentage)\n",
    "        print(\"% of failed students:\",failedpercentage)\n",
    "        print(\"% distinction students:\",distinctionpercentage)\n",
    "        print(\"Highest mark frequency:\",highcount)\n",
    "        print(\"Lowest mark frequency:\",lowcount)\n",
    "filepath='DataFiles/marks.txt'\n",
    "generatereport(filepath)\n",
    "        \n",
    "\n",
    "    \n",
    "        "
   ]
  },
  {
   "cell_type": "code",
   "execution_count": 46,
   "metadata": {},
   "outputs": [
    {
     "data": {
      "text/plain": [
       "True"
      ]
     },
     "execution_count": 46,
     "metadata": {},
     "output_type": "execute_result"
    }
   ],
   "source": [
    "# Check If a word is existing in a file\n",
    "import re\n",
    "def iswordexist(filepath,word):\n",
    "    with open(filepath, 'r') as f:\n",
    "        filedata = f.read()\n",
    "        pattern = '[ \\n ]'\n",
    "        x=re.split(pattern,filedata)\n",
    "        #print(x)\n",
    "        if word in x:\n",
    "            count=x.count(word)\n",
    "            return True\n",
    "        else:\n",
    "            return False\n",
    "filepath='DataFiles/data.txt'\n",
    "iswordexist(filepath,'word')"
   ]
  },
  {
   "cell_type": "code",
   "execution_count": 41,
   "metadata": {},
   "outputs": [],
   "source": []
  },
  {
   "cell_type": "code",
   "execution_count": null,
   "metadata": {},
   "outputs": [],
   "source": []
  }
 ],
 "metadata": {
  "kernelspec": {
   "display_name": "Python 3",
   "language": "python",
   "name": "python3"
  },
  "language_info": {
   "codemirror_mode": {
    "name": "ipython",
    "version": 3
   },
   "file_extension": ".py",
   "mimetype": "text/x-python",
   "name": "python",
   "nbconvert_exporter": "python",
   "pygments_lexer": "ipython3",
   "version": "3.7.3"
  }
 },
 "nbformat": 4,
 "nbformat_minor": 2
}