{
 "cells": [
  {
   "cell_type": "markdown",
   "metadata": {},
   "source": [
    "### Question-1:\n",
    "- Prime Number: need to print the series of all prime numbers till N.\n",
    "- Input Format: 10\n",
    "- Output Format: 2 3 5 7"
   ]
  },
  {
   "cell_type": "code",
   "execution_count": null,
   "metadata": {},
   "outputs": [],
   "source": [
    "n=int(input())\n",
    "cnt=0\n",
    "for i in range(2,n+1):\n",
    "    cnt=0\n",
    "    for j in range(2,i+1):\n",
    "        if i%j==0:\n",
    "            cnt=cnt+1\n",
    "    if cnt==1:\n",
    "        print(i,end=\" \")        "
   ]
  },
  {
   "cell_type": "markdown",
   "metadata": {},
   "source": [
    "### Question-2:\n",
    "- Count Divisors: You have been given 3 integers - l, r and k. Find how many numbers between l and r (both inclusive) are divisible by k.\n",
    "- Input Format: 1 10 1\n",
    "- Output Format: 10"
   ]
  },
  {
   "cell_type": "code",
   "execution_count": null,
   "metadata": {},
   "outputs": [],
   "source": [
    "l,r,k=map(int,input().split(\" \"))\n",
    "cnt=0\n",
    "for i in range(l,r+1):\n",
    "    if(i%k==0):\n",
    "        cnt=cnt+1\n",
    "print(cnt)        "
   ]
  },
  {
   "cell_type": "markdown",
   "metadata": {},
   "source": [
    "### Question 3 : Word Frequency: need to print words with frequency from given sentence (string) in dictionary format\n",
    "- Input Format: ravi ramu balu ravi raghu\n",
    "- Output Format: {“ravi”:2, “ramu”:1, “balu”:1, “raghu”:1}"
   ]
  },
  {
   "cell_type": "code",
   "execution_count": 3,
   "metadata": {},
   "outputs": [
    {
     "name": "stdout",
     "output_type": "stream",
     "text": [
      "ravi ramu balu ravi raghu\n",
      "{'ravi': 2, 'ramu': 1, 'balu': 1, 'raghu': 1}\n"
     ]
    }
   ],
   "source": [
    "n=input()\n",
    "n_words=n.split(\" \")\n",
    "c={}\n",
    "l=len(n_words)\n",
    "for i in range(0,l):\n",
    "    cnt=0\n",
    "    for j in range(0,l):\n",
    "        if (n_words[i]==n_words[j]):\n",
    "                cnt=cnt+1           \n",
    "    c[n_words[i]]=cnt \n",
    "print(c)    "
   ]
  },
  {
   "cell_type": "code",
   "execution_count": null,
   "metadata": {},
   "outputs": [],
   "source": []
  }
 ],
 "metadata": {
  "kernelspec": {
   "display_name": "Python 3",
   "language": "python",
   "name": "python3"
  },
  "language_info": {
   "codemirror_mode": {
    "name": "ipython",
    "version": 3
   },
   "file_extension": ".py",
   "mimetype": "text/x-python",
   "name": "python",
   "nbconvert_exporter": "python",
   "pygments_lexer": "ipython3",
   "version": "3.7.3"
  }
 },
 "nbformat": 4,
 "nbformat_minor": 2
}
