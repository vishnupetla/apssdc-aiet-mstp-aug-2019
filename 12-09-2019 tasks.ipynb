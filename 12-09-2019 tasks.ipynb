{
 "cells": [
  {
   "cell_type": "markdown",
   "metadata": {},
   "source": [
    "### Question 1:\n",
    "- Mobile Number Validation:\n",
    "- You have been given mobile numbers separated by “,” you need to valid  those mobile numbers\n",
    "- If valid print True otherwise False\n",
    "- Rules:\n",
    "- Mobile number should have 10 digits\n",
    "- Mobile number should not contain any characters\n",
    "- Mobile number should start with (9,8,7,6) series only\n",
    " - Sample Input:\n",
    "- 9885587654,5647839439,982838281,6799867354,93o9289234\n",
    "- Sample Output:\n",
    "- True\n",
    "- False\n",
    "- False\n",
    "- True\n",
    "- False"
   ]
  },
  {
   "cell_type": "code",
   "execution_count": null,
   "metadata": {},
   "outputs": [],
   "source": [
    "n=list(input().split(\",\"))\n",
    "for i in range(len(n)):\n",
    "    if (n[i].isdigit()):\n",
    "        if((n[i][0]=='9' or n[i][0]=='8' or n[i][0]=='7' or n[i][0]=='6') and len(n[i])==10 ):\n",
    "            print(\"True\",end=\"\\n\")    \n",
    "        else:\n",
    "            print(\"False\",end=\"\\n\")\n",
    "    else:\n",
    "        print(\"False\",end=\"\\n\")"
   ]
  },
  {
   "cell_type": "markdown",
   "metadata": {},
   "source": [
    "###  Question 2:\n",
    "- Goki wants to have some more friends in his life. Goki has N people who he can be friends with, so he decides to choose among them according to their skills set Yi(1<=i<=n). He wants atleast X skills in his friends.\n",
    "\n",
    "- Input Format:\n",
    "- First line of the input contains an integer N denoting the number of people.\n",
    "- Next line contains a single integer X - denoting the minimum skill required to be Goki's friend.\n",
    "- Next n lines contain one integer Y - denoting the skill of ith person.\n",
    "\n",
    "- Sample Input:\n",
    "- 5\n",
    "- 100\n",
    "- 110\n",
    "- 130\n",
    "- 90\n",
    "- 100\n",
    "- 45\n",
    "- Sample Output:\n",
    "- YES\n",
    "- YES\n",
    "- NO\n",
    "- YES\n",
    "- NO"
   ]
  },
  {
   "cell_type": "code",
   "execution_count": 4,
   "metadata": {},
   "outputs": [
    {
     "name": "stdout",
     "output_type": "stream",
     "text": [
      "5\n",
      "100\n",
      "110\n",
      "130\n",
      "90\n",
      "100\n",
      "45\n",
      "YES\n",
      "YES\n",
      "NO\n",
      "YES\n",
      "NO\n"
     ]
    }
   ],
   "source": [
    "n=int(input())\n",
    "reqskill=int(input())\n",
    "skills=[]\n",
    "for i in range(0,n):\n",
    "    skills.append(int(input()))\n",
    "for i in range(len(skills)):\n",
    "    if skills[i]>=reqskill:\n",
    "        print(\"YES\",end=\"\\n\")\n",
    "    else:\n",
    "        print(\"NO\",end=\"\\n\")\n",
    "        "
   ]
  },
  {
   "cell_type": "code",
   "execution_count": null,
   "metadata": {},
   "outputs": [],
   "source": []
  }
 ],
 "metadata": {
  "kernelspec": {
   "display_name": "Python 3",
   "language": "python",
   "name": "python3"
  },
  "language_info": {
   "codemirror_mode": {
    "name": "ipython",
    "version": 3
   },
   "file_extension": ".py",
   "mimetype": "text/x-python",
   "name": "python",
   "nbconvert_exporter": "python",
   "pygments_lexer": "ipython3",
   "version": "3.7.3"
  }
 },
 "nbformat": 4,
 "nbformat_minor": 2
}
