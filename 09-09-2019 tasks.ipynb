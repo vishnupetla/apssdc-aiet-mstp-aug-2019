{
 "cells": [
  {
   "cell_type": "markdown",
   "metadata": {},
   "source": [
    "### 1: to print names ending with u"
   ]
  },
  {
   "cell_type": "code",
   "execution_count": null,
   "metadata": {},
   "outputs": [],
   "source": [
    "names=\"mahesh ravi raghu krish balu\"\n",
    "n_list=names.split(\" \")\n",
    "for name in n_list:\n",
    "    if(name.endswith('u')):\n",
    "        print(name,end=\" \")"
   ]
  },
  {
   "cell_type": "markdown",
   "metadata": {},
   "source": [
    "### 2: print names which length has maximum"
   ]
  },
  {
   "cell_type": "code",
   "execution_count": 41,
   "metadata": {},
   "outputs": [
    {
     "name": "stdout",
     "output_type": "stream",
     "text": [
      "mahesh\n"
     ]
    }
   ],
   "source": [
    "names=\"mahesh ravi raghu krish balu\"\n",
    "n_list=names.split(\" \")\n",
    "l=len(n_list[0])\n",
    "n=n_list[0]\n",
    "for name in n_list:\n",
    "    if(l<len(name)):\n",
    "        n=name\n",
    "print(n)        "
   ]
  },
  {
   "cell_type": "markdown",
   "metadata": {},
   "source": [
    "### 3:Names ends with (a,e,i,o,u)"
   ]
  },
  {
   "cell_type": "code",
   "execution_count": null,
   "metadata": {},
   "outputs": [],
   "source": [
    "for name in n_list:\n",
    "    if (name.endswith('a')): \n",
    "        print(name,end=\" \")\n",
    "    elif (name.endswith('e')):\n",
    "        print(name,end=\" \")\n",
    "    elif (name.endswith('i')):\n",
    "        print(name,end=\" \")\n",
    "    elif (name.endswith('o')):\n",
    "        print(name,end=\" \")\n",
    "    elif (name.endswith('u')):\n",
    "        print(name,end=\" \")    "
   ]
  },
  {
   "cell_type": "markdown",
   "metadata": {},
   "source": [
    "### 4 palindrome string:"
   ]
  },
  {
   "cell_type": "code",
   "execution_count": null,
   "metadata": {},
   "outputs": [],
   "source": [
    "n=input()\n",
    "l=len(n)\n",
    "cnt=0\n",
    "for i in range(0,l):\n",
    "    if(n[i]==n[l-1-i]):\n",
    "        cnt+=1\n",
    "if(cnt==l):        \n",
    "    print(\"YES\")\n",
    "else:\n",
    "    print(\"NO\")"
   ]
  },
  {
   "cell_type": "markdown",
   "metadata": {},
   "source": [
    "### 5 Toggle string: \n",
    " - sample input: HeLlo\n",
    "- sample output: hElLO"
   ]
  },
  {
   "cell_type": "code",
   "execution_count": null,
   "metadata": {},
   "outputs": [],
   "source": [
    "n=input()\n",
    "l=len(n)\n",
    "for i in range(0,l):\n",
    "    if(ord(n[i])>=65 and ord(n[i])<=90):\n",
    "        print(chr(ord(n[i])+32),end=\"\")\n",
    "    else:\n",
    "        print(chr(ord(n[i])-32),end=\"\")"
   ]
  },
  {
   "cell_type": "markdown",
   "metadata": {},
   "source": [
    "### 6. Given 2 strings are of same size whether identical or not?\n",
    "- Input: abc cab\n",
    "- Output: \"YES\""
   ]
  },
  {
   "cell_type": "code",
   "execution_count": 5,
   "metadata": {},
   "outputs": [
    {
     "name": "stdout",
     "output_type": "stream",
     "text": [
      "vis\n",
      "siv\n",
      "YES\n"
     ]
    }
   ],
   "source": [
    "a=input()\n",
    "b=input()\n",
    "l1=len(a)\n",
    "l2=len(b)\n",
    "cnt=0\n",
    "if(l1==l2):\n",
    "    for i in range(0,l1):\n",
    "        key=a[i]\n",
    "        for j in range(0,l2):\n",
    "            if(key==b[j]):\n",
    "                cnt+=1\n",
    "if(cnt==l1):\n",
    "    print(\"YES\")\n",
    "else:\n",
    "    print(\"NO\")\n",
    "        "
   ]
  },
  {
   "cell_type": "code",
   "execution_count": 7,
   "metadata": {},
   "outputs": [],
   "source": [
    "names=\"mahesh ravi balu krish akash raghu\"\n",
    "#print the names which has duplicate characters\n",
    "output: mahesh akash"
   ]
  },
  {
   "cell_type": "code",
   "execution_count": 39,
   "metadata": {},
   "outputs": [
    {
     "name": "stdout",
     "output_type": "stream",
     "text": [
      "mahesh ravi balu krish aksah raghu "
     ]
    }
   ],
   "source": [
    "n_list=names.split(\" \")\n",
    "for name in n_list:\n",
    "    l=len(name)\n",
    "    cnt=0\n",
    "    for i in range(0,l-1):\n",
    "        key=name[i]\n",
    "        for j in range(1,l):\n",
    "            if(key==name[j]):\n",
    "                cnt=1\n",
    "                break           \n",
    "    if(cnt==1):\n",
    "        print(name,end=\" \")"
   ]
  },
  {
   "cell_type": "code",
   "execution_count": null,
   "metadata": {},
   "outputs": [],
   "source": []
  },
  {
   "cell_type": "code",
   "execution_count": null,
   "metadata": {},
   "outputs": [],
   "source": []
  }
 ],
 "metadata": {
  "kernelspec": {
   "display_name": "Python 3",
   "language": "python",
   "name": "python3"
  },
  "language_info": {
   "codemirror_mode": {
    "name": "ipython",
    "version": 3
   },
   "file_extension": ".py",
   "mimetype": "text/x-python",
   "name": "python",
   "nbconvert_exporter": "python",
   "pygments_lexer": "ipython3",
   "version": "3.7.3"
  }
 },
 "nbformat": 4,
 "nbformat_minor": 2
}
