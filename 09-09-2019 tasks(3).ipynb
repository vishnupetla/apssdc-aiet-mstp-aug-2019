{
 "cells": [
  {
   "cell_type": "markdown",
   "metadata": {},
   "source": [
    "### Question -1:\n",
    "- Maximum length: Print the words which length has maximum if multiple  names has max length print that names in same line.\n",
    "- Sample Input :\n",
    "- mahesh ravi raghu krish balu\n",
    "- Sample output : mahesh"
   ]
  },
  {
   "cell_type": "code",
   "execution_count": 2,
   "metadata": {},
   "outputs": [
    {
     "name": "stdout",
     "output_type": "stream",
     "text": [
      "mahesh ravi raghu krish balu\n",
      "mahesh\n"
     ]
    }
   ],
   "source": [
    "names=input()\n",
    "n_list=names.split(\" \")\n",
    "l=len(n_list[0])\n",
    "n=n_list[0]\n",
    "for name in n_list:\n",
    "    if(l<len(name)):\n",
    "        n=name\n",
    "print(n)   "
   ]
  },
  {
   "cell_type": "markdown",
   "metadata": {},
   "source": [
    "### Question -2:\n",
    "- Palindrome: Need to find and print whether this string is a palindrome or not. If yes, print \"YES\" else print \"NO\".\n",
    "- Sample Input :LoL\n",
    "- Sample output : YES"
   ]
  },
  {
   "cell_type": "code",
   "execution_count": 3,
   "metadata": {},
   "outputs": [
    {
     "name": "stdout",
     "output_type": "stream",
     "text": [
      "LoL\n",
      "YES\n"
     ]
    }
   ],
   "source": [
    "n=input()\n",
    "l=len(n)\n",
    "cnt=0\n",
    "for i in range(0,l):\n",
    "    if(n[i]==n[l-1-i]):\n",
    "        cnt+=1\n",
    "if(cnt==l):        \n",
    "    print(\"YES\")\n",
    "else:\n",
    "    print(\"NO\")"
   ]
  },
  {
   "cell_type": "markdown",
   "metadata": {},
   "source": [
    "### Question -3:\n",
    "- Toggle String: You have been given a String S consisting of uppercase and lowercase English alphabets. You need to change the case of each alphabet in this String.\n",
    "- Sample Input :hElLo\n",
    "- Sample output : HeLlO"
   ]
  },
  {
   "cell_type": "code",
   "execution_count": 4,
   "metadata": {},
   "outputs": [
    {
     "name": "stdout",
     "output_type": "stream",
     "text": [
      "hElLo\n",
      "HeLlO"
     ]
    }
   ],
   "source": [
    "n=input()\n",
    "l=len(n)\n",
    "for i in range(0,l):\n",
    "    if(ord(n[i])>=65 and ord(n[i])<=90):\n",
    "        print(chr(ord(n[i])+32),end=\"\")\n",
    "    else:\n",
    "        print(chr(ord(n[i])-32),end=\"\")"
   ]
  }
 ],
 "metadata": {
  "kernelspec": {
   "display_name": "Python 3",
   "language": "python",
   "name": "python3"
  },
  "language_info": {
   "codemirror_mode": {
    "name": "ipython",
    "version": 3
   },
   "file_extension": ".py",
   "mimetype": "text/x-python",
   "name": "python",
   "nbconvert_exporter": "python",
   "pygments_lexer": "ipython3",
   "version": "3.7.3"
  }
 },
 "nbformat": 4,
 "nbformat_minor": 2
}
