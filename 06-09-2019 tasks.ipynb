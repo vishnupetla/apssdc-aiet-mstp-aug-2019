{
 "cells": [
  {
   "cell_type": "markdown",
   "metadata": {},
   "source": [
    "Question-1: Write a Python Program to largest of three given numbers (using input statement)"
   ]
  },
  {
   "cell_type": "code",
   "execution_count": 2,
   "metadata": {},
   "outputs": [
    {
     "name": "stdout",
     "output_type": "stream",
     "text": [
      "A = 31\n",
      "B = 75\n",
      "C = 21\n",
      "Largest Number is  75\n"
     ]
    }
   ],
   "source": [
    "a=int(input(\"A = \"))\n",
    "b=int(input(\"B = \"))\n",
    "c=int(input(\"C = \"))\n",
    "if a>b and a>c:\n",
    "    print(\"Largest Number is \",a)\n",
    "elif b>c:\n",
    "    print(\"Largest Number is \",b)\n",
    "else:\n",
    "    print(\"Largest Number is \",c)"
   ]
  },
  {
   "cell_type": "markdown",
   "metadata": {},
   "source": [
    "Question -2: Write a python program to find the given number(N) in given range(lower bound-upper bound)"
   ]
  },
  {
   "cell_type": "code",
   "execution_count": 3,
   "metadata": {},
   "outputs": [
    {
     "name": "stdout",
     "output_type": "stream",
     "text": [
      "Enter Lower bound number: 10\n",
      "Enter Upper bound number: 20\n",
      "Enter N: 15\n",
      "given number is exist\n"
     ]
    }
   ],
   "source": [
    "a=int(input(\"Enter Lower bound number: \"))\n",
    "b=int(input(\"Enter Upper bound number: \"))\n",
    "c=int(input(\"Enter N: \"))\n",
    "if c>a and c<b:\n",
    "    print(\"given number is exist\")"
   ]
  }
 ],
 "metadata": {
  "kernelspec": {
   "display_name": "Python 3",
   "language": "python",
   "name": "python3"
  },
  "language_info": {
   "codemirror_mode": {
    "name": "ipython",
    "version": 3
   },
   "file_extension": ".py",
   "mimetype": "text/x-python",
   "name": "python",
   "nbconvert_exporter": "python",
   "pygments_lexer": "ipython3",
   "version": "3.7.3"
  }
 },
 "nbformat": 4,
 "nbformat_minor": 2
}
