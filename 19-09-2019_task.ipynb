{
 "cells": [
  {
   "cell_type": "markdown",
   "metadata": {},
   "source": [
    "Rollno : 16811A0210"
   ]
  },
  {
   "cell_type": "markdown",
   "metadata": {},
   "source": [
    "Question -1:\n",
    "write a program to print the next character of given string except z(z is same as z)\n",
    "\n",
    "Input Format:\n",
    "hello\n",
    "\n",
    "Output Format:\n",
    "ifmmp"
   ]
  },
  {
   "cell_type": "code",
   "execution_count": 10,
   "metadata": {},
   "outputs": [
    {
     "name": "stdout",
     "output_type": "stream",
     "text": [
      "hellozz\n",
      "ifmmpzz\n"
     ]
    }
   ],
   "source": [
    "def encrypt(s,k):\n",
    "    words=\"\"\n",
    "    for i in range(len(s)):\n",
    "        wrd=ord(s[i])\n",
    "        letter=k\n",
    "        if s[i]=='z' or s[i]=='Z':\n",
    "            words+=chr(wrd)\n",
    "        elif wrd+k>122:\n",
    "            k-=(122-wrd)\n",
    "            k=k%24\n",
    "            words+=chr(97+k)\n",
    "        else:\n",
    "            words+=chr(wrd+k)\n",
    "        k=letter\n",
    "    print(words)\n",
    "word=input()\n",
    "k=26\n",
    "encrypt(word,k)"
   ]
  },
  {
   "cell_type": "code",
   "execution_count": null,
   "metadata": {},
   "outputs": [],
   "source": []
  }
 ],
 "metadata": {
  "kernelspec": {
   "display_name": "Python 3",
   "language": "python",
   "name": "python3"
  },
  "language_info": {
   "codemirror_mode": {
    "name": "ipython",
    "version": 3
   },
   "file_extension": ".py",
   "mimetype": "text/x-python",
   "name": "python",
   "nbconvert_exporter": "python",
   "pygments_lexer": "ipython3",
   "version": "3.7.3"
  }
 },
 "nbformat": 4,
 "nbformat_minor": 2
}
