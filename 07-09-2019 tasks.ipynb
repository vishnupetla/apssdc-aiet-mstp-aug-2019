{
 "cells": [
  {
   "cell_type": "markdown",
   "metadata": {},
   "source": [
    "Question-1: Write a Python Program to print the sum of digits in a given string(using input statement)\n",
    "Sample Input:\n",
    "13A85A0505\n",
    "Sample Output:\n",
    "27"
   ]
  },
  {
   "cell_type": "code",
   "execution_count": 14,
   "metadata": {},
   "outputs": [
    {
     "name": "stdout",
     "output_type": "stream",
     "text": [
      "13A85A0505\n",
      "27\n"
     ]
    }
   ],
   "source": [
    "rn=input()\n",
    "l=len(rn)\n",
    "sum=0\n",
    "for i in range(0,l):\n",
    "    if rn[i].isdigit():\n",
    "        sum=sum+int(rn[i])\n",
    "print(sum)        "
   ]
  },
  {
   "cell_type": "markdown",
   "metadata": {},
   "source": [
    "Question 2: Write a python program to find the weight of given string (character a weight is 1 and b is 2 and z is 26 like that)\n",
    "Sample Input:\n",
    "aba\n",
    "Sample Output:\n",
    "4"
   ]
  },
  {
   "cell_type": "code",
   "execution_count": 15,
   "metadata": {
    "scrolled": true
   },
   "outputs": [
    {
     "name": "stdout",
     "output_type": "stream",
     "text": [
      "aba\n",
      "4\n"
     ]
    }
   ],
   "source": [
    "#above problem can be easily solved by:\n",
    "str=input()\n",
    "sum=0\n",
    "for i in range(len(str)):\n",
    "    sum=sum+(ord(str[i])-96)\n",
    "print(sum)    "
   ]
  }
 ],
 "metadata": {
  "kernelspec": {
   "display_name": "Python 3",
   "language": "python",
   "name": "python3"
  },
  "language_info": {
   "codemirror_mode": {
    "name": "ipython",
    "version": 3
   },
   "file_extension": ".py",
   "mimetype": "text/x-python",
   "name": "python",
   "nbconvert_exporter": "python",
   "pygments_lexer": "ipython3",
   "version": "3.7.3"
  }
 },
 "nbformat": 4,
 "nbformat_minor": 2
}
